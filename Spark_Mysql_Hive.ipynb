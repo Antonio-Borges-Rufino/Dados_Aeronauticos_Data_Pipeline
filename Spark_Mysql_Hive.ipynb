{
 "cells": [
  {
   "cell_type": "code",
   "execution_count": null,
   "id": "657be36c",
   "metadata": {},
   "outputs": [],
   "source": [
    "from pyspark.sql import SparkSession\n",
    "spark = SparkSession.builder.appName(\"salvarHive\") \\\n",
    "        .config(\"spark.jars\",\"/home/hadoop/hadoop_ecosystem/spark/Conectores/mysql-connector-java-8.0.30.jar\") \\\n",
    "        .enableHiveSupport().getOrCreate()"
   ]
  },
  {
   "cell_type": "code",
   "execution_count": null,
   "id": "52deaeb8",
   "metadata": {},
   "outputs": [],
   "source": [
    "spark.sql(\"show databases\").show()\n",
    "spark.sql(\"create database teste_h\")\n",
    "spark.sql(\"use teste_h\")"
   ]
  },
  {
   "cell_type": "code",
   "execution_count": null,
   "id": "008890fb",
   "metadata": {},
   "outputs": [],
   "source": [
    "!hdfs dfs -ls /user/hive/warehouse"
   ]
  },
  {
   "cell_type": "code",
   "execution_count": null,
   "id": "1b0c097a",
   "metadata": {},
   "outputs": [],
   "source": [
    "df = spark.read \\\n",
    "    .format(\"jdbc\") \\\n",
    "    .option(\"url\", \"jdbc:mysql://localhost:3306/incidents\") \\\n",
    "    .option(\"driver\", \"com.mysql.cj.jdbc.Driver\") \\\n",
    "    .option(\"dbtable\", \"incidents_aer\") \\\n",
    "    .option(\"user\", \"root\") \\\n",
    "    .option(\"password\", \"123456789\") \\\n",
    "    .load()"
   ]
  },
  {
   "cell_type": "code",
   "execution_count": null,
   "id": "6b7715b9",
   "metadata": {},
   "outputs": [],
   "source": [
    "df.show()"
   ]
  },
  {
   "cell_type": "code",
   "execution_count": null,
   "id": "2fe30dde",
   "metadata": {},
   "outputs": [],
   "source": [
    "df.write.saveAsTable(\"incidents_aer\")"
   ]
  },
  {
   "cell_type": "code",
   "execution_count": null,
   "id": "8adff344",
   "metadata": {},
   "outputs": [],
   "source": [
    "!hdfs dfs -ls /user/hive/warehouse/teste_h.db"
   ]
  },
  {
   "cell_type": "code",
   "execution_count": null,
   "id": "5c0e234a",
   "metadata": {},
   "outputs": [],
   "source": [
    "df.write.csv(\"hdfs://localhost:9000/get_mysql\",header=True)"
   ]
  },
  {
   "cell_type": "code",
   "execution_count": null,
   "id": "cc7f702f",
   "metadata": {},
   "outputs": [],
   "source": [
    "!hdfs dfs -ls /get_mysql\n"
   ]
  },
  {
   "cell_type": "code",
   "execution_count": null,
   "id": "53d1aeeb",
   "metadata": {},
   "outputs": [],
   "source": [
    "spark.sql(\"SELECT * FROM incidents_aer\").show()"
   ]
  }
 ],
 "metadata": {
  "kernelspec": {
   "display_name": "projetos",
   "language": "python",
   "name": "projetos"
  },
  "language_info": {
   "codemirror_mode": {
    "name": "ipython",
    "version": 3
   },
   "file_extension": ".py",
   "mimetype": "text/x-python",
   "name": "python",
   "nbconvert_exporter": "python",
   "pygments_lexer": "ipython3",
   "version": "3.9.14"
  }
 },
 "nbformat": 4,
 "nbformat_minor": 5
}
